{
  "nbformat": 4,
  "nbformat_minor": 0,
  "metadata": {
    "colab": {
      "name": "First NN",
      "provenance": [],
      "collapsed_sections": []
    },
    "kernelspec": {
      "name": "python3",
      "display_name": "Python 3"
    },
    "accelerator": "TPU"
  },
  "cells": [
    {
      "cell_type": "code",
      "metadata": {
        "id": "CKhHfkslvP-E",
        "colab_type": "code",
        "colab": {}
      },
      "source": [
        "%tensorflow_version 2.x\n",
        "import pandas as pd\n",
        "import numpy as np\n",
        "import matplotlib.pyplot as plt\n",
        "import tensorflow as tf\n",
        "from tensorflow import keras"
      ],
      "execution_count": 0,
      "outputs": []
    },
    {
      "cell_type": "code",
      "metadata": {
        "id": "ft1Ghe1ovRXT",
        "colab_type": "code",
        "colab": {}
      },
      "source": [
        "train_images = pd.read_csv(\"https://pjreddie.com/media/files/mnist_train.csv\")\n",
        "test_images = pd.read_csv(\"https://pjreddie.com/media/files/mnist_test.csv\")"
      ],
      "execution_count": 0,
      "outputs": []
    },
    {
      "cell_type": "code",
      "metadata": {
        "id": "fqyTsZRDvg1K",
        "colab_type": "code",
        "colab": {}
      },
      "source": [
        "train_images = np.array(train_images)\n",
        "test_images = np.array(test_images)\n",
        "train_labels = train_images[:,0]\n",
        "test_labels = test_images[:,0]\n",
        "train_images = np.delete(train_images,0,1)\n",
        "test_images = np.delete(test_images,0,1)"
      ],
      "execution_count": 0,
      "outputs": []
    },
    {
      "cell_type": "code",
      "metadata": {
        "id": "wnxZVD2fxUfg",
        "colab_type": "code",
        "outputId": "d5d03ebd-2cef-4c52-df79-07f111d9c1ee",
        "colab": {
          "base_uri": "https://localhost:8080/",
          "height": 85
        }
      },
      "source": [
        "print(np.shape(train_images))\n",
        "print(np.shape(train_labels))\n",
        "print(np.shape(test_images))\n",
        "print(np.shape(test_labels))"
      ],
      "execution_count": 0,
      "outputs": [
        {
          "output_type": "stream",
          "text": [
            "(59999, 784)\n",
            "(59999,)\n",
            "(9999, 784)\n",
            "(9999,)\n"
          ],
          "name": "stdout"
        }
      ]
    },
    {
      "cell_type": "code",
      "metadata": {
        "id": "k0cH2-6a43Bu",
        "colab_type": "code",
        "colab": {}
      },
      "source": [
        "train_images = np.reshape(train_images,(-1,28,28))\n",
        "test_images = np.reshape(test_images,(-1,28,28))"
      ],
      "execution_count": 0,
      "outputs": []
    },
    {
      "cell_type": "code",
      "metadata": {
        "id": "sjS7hfuy5Dc5",
        "colab_type": "code",
        "outputId": "061316cb-6dd4-45b6-d790-cdb3891602d0",
        "colab": {
          "base_uri": "https://localhost:8080/",
          "height": 51
        }
      },
      "source": [
        "print(train_images.shape)\n",
        "print(test_images.shape)"
      ],
      "execution_count": 0,
      "outputs": [
        {
          "output_type": "stream",
          "text": [
            "(59999, 28, 28)\n",
            "(9999, 28, 28)\n"
          ],
          "name": "stdout"
        }
      ]
    },
    {
      "cell_type": "code",
      "metadata": {
        "id": "nIUi6MZU5P4u",
        "colab_type": "code",
        "outputId": "66a78099-bc03-464b-8fcc-c02a28afd33e",
        "colab": {
          "base_uri": "https://localhost:8080/",
          "height": 282
        }
      },
      "source": [
        "plt.imshow(train_images[2321])\n",
        "print(train_labels[2321])"
      ],
      "execution_count": 0,
      "outputs": [
        {
          "output_type": "stream",
          "text": [
            "2\n"
          ],
          "name": "stdout"
        },
        {
          "output_type": "display_data",
          "data": {
            "image/png": "[encoded data removed]",
            "text/plain": [
              "<Figure size 432x288 with 1 Axes>"
            ]
          },
          "metadata": {
            "tags": []
          }
        }
      ]
    },
    {
      "cell_type": "code",
      "metadata": {
        "id": "obF8mn_c5R1G",
        "colab_type": "code",
        "colab": {}
      },
      "source": [
        "train_images = train_images/255\n",
        "test_images = test_images/255"
      ],
      "execution_count": 0,
      "outputs": []
    },
    {
      "cell_type": "code",
      "metadata": {
        "id": "yDcV7yw65caA",
        "colab_type": "code",
        "outputId": "bba4df15-efe0-4a85-87f4-a85d52ce7903",
        "colab": {
          "base_uri": "https://localhost:8080/",
          "height": 282
        }
      },
      "source": [
        "plt.imshow(train_images[5])"
      ],
      "execution_count": 0,
      "outputs": [
        {
          "output_type": "execute_result",
          "data": {
            "text/plain": [
              "<matplotlib.image.AxesImage at 0x7fe8538b3da0>"
            ]
          },
          "metadata": {
            "tags": []
          },
          "execution_count": 24
        },
        {
          "output_type": "display_data",
          "data": {
            "image/png": "[encoded data removed]",
            "text/plain": [
              "<Figure size 432x288 with 1 Axes>"
            ]
          },
          "metadata": {
            "tags": []
          }
        }
      ]
    },
    {
      "cell_type": "code",
      "metadata": {
        "id": "aBasvVRE_cVQ",
        "colab_type": "code",
        "outputId": "c0e3e784-711a-4984-db15-04a4ab3e37a8",
        "colab": {
          "base_uri": "https://localhost:8080/",
          "height": 282
        }
      },
      "source": [
        "plt.imshow(test_images[5])"
      ],
      "execution_count": 0,
      "outputs": [
        {
          "output_type": "execute_result",
          "data": {
            "text/plain": [
              "<matplotlib.image.AxesImage at 0x7fe85380d9e8>"
            ]
          },
          "metadata": {
            "tags": []
          },
          "execution_count": 25
        },
        {
          "output_type": "display_data",
          "data": {
            "image/png": "[encoded data removed]",
            "text/plain": [
              "<Figure size 432x288 with 1 Axes>"
            ]
          },
          "metadata": {
            "tags": []
          }
        }
      ]
    },
    {
      "cell_type": "code",
      "metadata": {
        "id": "ltfewQqsALM-",
        "colab_type": "code",
        "outputId": "3ef64ee8-f6eb-48a1-bf3a-88c340eee0df",
        "colab": {
          "base_uri": "https://localhost:8080/",
          "height": 34
        }
      },
      "source": [
        "test_labels[5]"
      ],
      "execution_count": 0,
      "outputs": [
        {
          "output_type": "execute_result",
          "data": {
            "text/plain": [
              "4"
            ]
          },
          "metadata": {
            "tags": []
          },
          "execution_count": 26
        }
      ]
    },
    {
      "cell_type": "code",
      "metadata": {
        "id": "OxiXFR166MdJ",
        "colab_type": "code",
        "colab": {}
      },
      "source": [
        "model = keras.Sequential([\n",
        "    keras.layers.Flatten(input_shape=(28,28)),\n",
        "    keras.layers.Dense(196, activation='relu'),\n",
        "    keras.layers.Dropout(0.2),\n",
        "    keras.layers.Dense(10,activation='softmax')\n",
        "])"
      ],
      "execution_count": 0,
      "outputs": []
    },
    {
      "cell_type": "code",
      "metadata": {
        "id": "akxq9afe69Yn",
        "colab_type": "code",
        "colab": {}
      },
      "source": [
        "model.compile(optimizer = 'adam',\n",
        "              loss = 'sparse_categorical_crossentropy',\n",
        "              metrics= ['accuracy'])"
      ],
      "execution_count": 0,
      "outputs": []
    },
    {
      "cell_type": "code",
      "metadata": {
        "id": "U2ZZf28a9mC-",
        "colab_type": "code",
        "outputId": "518aa16b-76bf-4990-b26f-68b8d6e3bbea",
        "colab": {
          "base_uri": "https://localhost:8080/",
          "height": 221
        }
      },
      "source": [
        "model.fit(train_images,train_labels, epochs=5)"
      ],
      "execution_count": 0,
      "outputs": [
        {
          "output_type": "stream",
          "text": [
            "Train on 59999 samples\n",
            "Epoch 1/5\n",
            "59999/59999 [==============================] - 6s 104us/sample - loss: 0.2666 - accuracy: 0.9223\n",
            "Epoch 2/5\n",
            "59999/59999 [==============================] - 5s 89us/sample - loss: 0.1219 - accuracy: 0.9632\n",
            "Epoch 3/5\n",
            "59999/59999 [==============================] - 5s 88us/sample - loss: 0.0902 - accuracy: 0.9725\n",
            "Epoch 4/5\n",
            "59999/59999 [==============================] - 5s 87us/sample - loss: 0.0723 - accuracy: 0.9772\n",
            "Epoch 5/5\n",
            "59999/59999 [==============================] - 5s 88us/sample - loss: 0.0601 - accuracy: 0.9812\n"
          ],
          "name": "stdout"
        },
        {
          "output_type": "execute_result",
          "data": {
            "text/plain": [
              "<tensorflow.python.keras.callbacks.History at 0x7fe84d4d6908>"
            ]
          },
          "metadata": {
            "tags": []
          },
          "execution_count": 29
        }
      ]
    },
    {
      "cell_type": "code",
      "metadata": {
        "id": "jBKuz5iT9qZT",
        "colab_type": "code",
        "outputId": "846796b2-4258-4ecb-f670-27f6fc82bfd8",
        "colab": {
          "base_uri": "https://localhost:8080/",
          "height": 51
        }
      },
      "source": [
        "model.evaluate(test_images,test_labels, verbose=1)"
      ],
      "execution_count": 0,
      "outputs": [
        {
          "output_type": "stream",
          "text": [
            "9999/9999 [==============================] - 1s 64us/sample - loss: 0.0699 - accuracy: 0.9793\n"
          ],
          "name": "stdout"
        },
        {
          "output_type": "execute_result",
          "data": {
            "text/plain": [
              "[0.06986916240403718, 0.97929794]"
            ]
          },
          "metadata": {
            "tags": []
          },
          "execution_count": 34
        }
      ]
    },
    {
      "cell_type": "code",
      "metadata": {
        "id": "5hYHxWLL9-Na",
        "colab_type": "code",
        "colab": {}
      },
      "source": [
        "predictions = model.predict(test_images)"
      ],
      "execution_count": 0,
      "outputs": []
    },
    {
      "cell_type": "code",
      "metadata": {
        "id": "XDER0VLVAYE4",
        "colab_type": "code",
        "outputId": "2ce58173-d88b-44ad-c03b-3e9c5ae3766b",
        "colab": {
          "base_uri": "https://localhost:8080/",
          "height": 34
        }
      },
      "source": [
        "np.argmax(predictions[21])"
      ],
      "execution_count": 0,
      "outputs": [
        {
          "output_type": "execute_result",
          "data": {
            "text/plain": [
              "6"
            ]
          },
          "metadata": {
            "tags": []
          },
          "execution_count": 40
        }
      ]
    },
    {
      "cell_type": "code",
      "metadata": {
        "id": "rkC5Gi-JAZAj",
        "colab_type": "code",
        "outputId": "08ef67f3-6a70-4ed0-d632-754c117c92ed",
        "colab": {
          "base_uri": "https://localhost:8080/",
          "height": 282
        }
      },
      "source": [
        "plt.imshow(test_images[21])"
      ],
      "execution_count": 0,
      "outputs": [
        {
          "output_type": "execute_result",
          "data": {
            "text/plain": [
              "<matplotlib.image.AxesImage at 0x7fe846558f60>"
            ]
          },
          "metadata": {
            "tags": []
          },
          "execution_count": 41
        },
        {
          "output_type": "display_data",
          "data": {
            "image/png": "[encoded data removed]",
            "text/plain": [
              "<Figure size 432x288 with 1 Axes>"
            ]
          },
          "metadata": {
            "tags": []
          }
        }
      ]
    },
    {
      "cell_type": "code",
      "metadata": {
        "id": "Tmn3FBPB2X0Z",
        "colab_type": "code",
        "colab": {}
      },
      "source": [
        ""
      ],
      "execution_count": 0,
      "outputs": []
    }
  ]
}
